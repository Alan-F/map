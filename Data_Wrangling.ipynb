{
 "cells": [
  {
   "cell_type": "code",
   "execution_count": 2,
   "metadata": {
    "collapsed": true
   },
   "outputs": [],
   "source": [
    "import pandas as pd\n",
    "import geopandas as gpd"
   ]
  },
  {
   "cell_type": "code",
   "execution_count": 3,
   "metadata": {
    "collapsed": false
   },
   "outputs": [],
   "source": [
    "section = gpd.read_file('map/section/section.shp')\n",
    "floorPlan = pd.read_excel('Permanent-Halls_FINAL_floors-sections.xls')"
   ]
  },
  {
   "cell_type": "code",
   "execution_count": 6,
   "metadata": {
    "collapsed": true
   },
   "outputs": [],
   "source": [
    "floorPlan = floorPlan.dropna(subset=['Section'])\n",
    "floorPlan.Section = floorPlan.Section.apply(lambda x: str(x))"
   ]
  },
  {
   "cell_type": "code",
   "execution_count": 11,
   "metadata": {
    "collapsed": false
   },
   "outputs": [],
   "source": [
    "df = floorPlan.loc[:,['Date of Source', 'Floor', 'Section', 'Hall Name']]\n",
    "df['Hall Name'] = df['Hall Name'].apply(str)\n",
    "df2 = df.groupby(['Date of Source', 'Floor', 'Section'])['Hall Name'].apply(list)\n",
    "df2.to_csv('df22.csv')\n",
    "df4 = pd.read_csv('df22.csv',header=None)\n",
    "df4.columns=['year', 'floor', 'section', 'hall name']"
   ]
  },
  {
   "cell_type": "code",
   "execution_count": 105,
   "metadata": {
    "collapsed": false
   },
   "outputs": [],
   "source": [
    "df4.section = df4.section.replace('CCP', '7a')\n",
    "df4.section = df4.section.replace('SC', '2')\n",
    "df4.section = df4.section.replace('NC', '7a')"
   ]
  },
  {
   "cell_type": "code",
   "execution_count": 112,
   "metadata": {
    "collapsed": false
   },
   "outputs": [],
   "source": [
    "df4['hall name'].to_csv('hall.csv')"
   ]
  },
  {
   "cell_type": "code",
   "execution_count": 122,
   "metadata": {
    "collapsed": false
   },
   "outputs": [],
   "source": [
    "js = []\n",
    "for i in xrange(df4.shape[0]):\n",
    "    d = {}\n",
    "    d['year'] = df4.loc[i,'year']\n",
    "    d['floor'] = df4.loc[i, 'floor']\n",
    "    d['section'] = df4.loc[i,'section']\n",
    "    d['hall name'] = df4['hall name'][i]\n",
    "    js.append(d)"
   ]
  },
  {
   "cell_type": "code",
   "execution_count": 126,
   "metadata": {
    "collapsed": false
   },
   "outputs": [],
   "source": [
    "import json\n",
    "with open('data.json', 'w') as outfile:\n",
    "    json.dump(js, outfile)"
   ]
  },
  {
   "cell_type": "code",
   "execution_count": 139,
   "metadata": {
    "collapsed": false
   },
   "outputs": [],
   "source": [
    "df4.section = df4.section.replace('12a', '12A')\n",
    "df4.section = df4.section.replace('7a', '7A')\n",
    "df4.section = df4.section.replace('2a', '2A')\n",
    "df4.section = df4.section.replace('13a', '13A')"
   ]
  },
  {
   "cell_type": "code",
   "execution_count": 137,
   "metadata": {
    "collapsed": false
   },
   "outputs": [],
   "source": [
    "section.section = section.section.apply(str)"
   ]
  },
  {
   "cell_type": "code",
   "execution_count": 144,
   "metadata": {
    "collapsed": true
   },
   "outputs": [],
   "source": [
    "section2 = section.loc[:,['geometry', 'section']]\n",
    "merge = pd.merge(right = section2,left= df4, on = 'section', how='inner' )\n",
    "merge.to_csv('merge.csv')\n",
    "merge_geo = gpd.GeoDataFrame(merge)\n",
    "merge_geo.crs = {\"init\": \"epsg:4326\"}\n",
    "merge_geo.to_file('merge')"
   ]
  },
  {
   "cell_type": "code",
   "execution_count": 358,
   "metadata": {
    "collapsed": true
   },
   "outputs": [],
   "source": [
    "merge_geo.to_file('merge')"
   ]
  },
  {
   "cell_type": "code",
   "execution_count": 359,
   "metadata": {
    "collapsed": false
   },
   "outputs": [
    {
     "data": {
      "text/plain": [
       "<matplotlib.axes._subplots.AxesSubplot at 0x128f49050>"
      ]
     },
     "execution_count": 359,
     "metadata": {},
     "output_type": "execute_result"
    },
    {
     "data": {
      "image/png": "[encoded data removed]",
      "text/plain": [
       "<matplotlib.figure.Figure at 0x128c92a50>"
      ]
     },
     "metadata": {},
     "output_type": "display_data"
    }
   ],
   "source": [
    "merge_geo.plot()"
   ]
  },
  {
   "cell_type": "code",
   "execution_count": 189,
   "metadata": {
    "collapsed": false
   },
   "outputs": [
    {
     "data": {
      "text/html": [
       "<div>\n",
       "<table border=\"1\" class=\"dataframe\">\n",
       "  <thead>\n",
       "    <tr style=\"text-align: right;\">\n",
       "      <th></th>\n",
       "      <th>year</th>\n",
       "      <th>floor</th>\n",
       "      <th>section</th>\n",
       "      <th>hall name</th>\n",
       "      <th>geometry</th>\n",
       "    </tr>\n",
       "  </thead>\n",
       "  <tbody>\n",
       "    <tr>\n",
       "      <th>0</th>\n",
       "      <td>1904</td>\n",
       "      <td>1</td>\n",
       "      <td>1</td>\n",
       "      <td>['Ethnology and Archaeology of Northwest Coast...</td>\n",
       "      <td>POLYGON ((-73.97460187538796 40.7807749166183,...</td>\n",
       "    </tr>\n",
       "    <tr>\n",
       "      <th>1</th>\n",
       "      <td>1904</td>\n",
       "      <td>2</td>\n",
       "      <td>1</td>\n",
       "      <td>['Bird Hall', 'Birds']</td>\n",
       "      <td>POLYGON ((-73.97460187538796 40.7807749166183,...</td>\n",
       "    </tr>\n",
       "    <tr>\n",
       "      <th>2</th>\n",
       "      <td>1904</td>\n",
       "      <td>3</td>\n",
       "      <td>1</td>\n",
       "      <td>['Birds of North America', 'North American Bir...</td>\n",
       "      <td>POLYGON ((-73.97460187538796 40.7807749166183,...</td>\n",
       "    </tr>\n",
       "  </tbody>\n",
       "</table>\n",
       "</div>"
      ],
      "text/plain": [
       "   year floor section                                          hall name  \\\n",
       "0  1904     1       1  ['Ethnology and Archaeology of Northwest Coast...   \n",
       "1  1904     2       1                             ['Bird Hall', 'Birds']   \n",
       "2  1904     3       1  ['Birds of North America', 'North American Bir...   \n",
       "\n",
       "                                            geometry  \n",
       "0  POLYGON ((-73.97460187538796 40.7807749166183,...  \n",
       "1  POLYGON ((-73.97460187538796 40.7807749166183,...  \n",
       "2  POLYGON ((-73.97460187538796 40.7807749166183,...  "
      ]
     },
     "execution_count": 189,
     "metadata": {},
     "output_type": "execute_result"
    }
   ],
   "source": [
    "merge_geo.head(3)"
   ]
  },
  {
   "cell_type": "code",
   "execution_count": 177,
   "metadata": {
    "collapsed": false
   },
   "outputs": [],
   "source": [
    "df_ach = pd.read_csv('map/PH_all_floors.csv')"
   ]
  },
  {
   "cell_type": "code",
   "execution_count": 191,
   "metadata": {
    "collapsed": true
   },
   "outputs": [],
   "source": [
    "def change_section(df4):\n",
    "    df4.section = df4.section.replace('CCP', '7a')\n",
    "    df4.section = df4.section.replace('SC', '2')\n",
    "    df4.section = df4.section.replace('NC', '7a')\n",
    "    df4.section = df4.section.replace('12a', '12A')\n",
    "    df4.section = df4.section.replace('7a', '7A')\n",
    "    df4.section = df4.section.replace('2a', '2A')\n",
    "    df4.section = df4.section.replace('13a', '13A')"
   ]
  },
  {
   "cell_type": "code",
   "execution_count": 193,
   "metadata": {
    "collapsed": false
   },
   "outputs": [],
   "source": [
    "change_section(df_ach)"
   ]
  },
  {
   "cell_type": "code",
   "execution_count": 242,
   "metadata": {
    "collapsed": false
   },
   "outputs": [],
   "source": [
    "df_ach2 = df_ach[['recordId', 'Names used in AMNH publications', 'useDates', 'floor', 'section']]\n",
    "df_ach2 = df_ach2.dropna()\n",
    "df_ach2 = df_ach2.dropna()\n",
    "df = df.reset_index(drop=True)\n",
    "df_ach2 = df_ach2.reset_index(drop=True)"
   ]
  },
  {
   "cell_type": "code",
   "execution_count": 324,
   "metadata": {
    "collapsed": false
   },
   "outputs": [],
   "source": [
    "merge_geo.to_csv('merge_geo.csv')\n",
    "df_ach2.to_csv('archive.csv')"
   ]
  },
  {
   "cell_type": "code",
   "execution_count": 331,
   "metadata": {
    "collapsed": false
   },
   "outputs": [],
   "source": [
    "df_cut = df_ach.drop_duplicates(subset=['recordId', 'Names used in AMNH publications'])\n",
    "df_cut = df_cut.iloc[:,[0,4,5,6,7]]\n",
    "df_cut = df_cut.dropna(subset=['floor', 'section'])\n",
    "df_cut = df_cut.reset_index(drop=True)\n",
    "df_cut.to_csv('arc.csv')"
   ]
  }
 ],
 "metadata": {
  "kernelspec": {
   "display_name": "Python [default]",
   "language": "python",
   "name": "python2"
  },
  "language_info": {
   "codemirror_mode": {
    "name": "ipython",
    "version": 2
   },
   "file_extension": ".py",
   "mimetype": "text/x-python",
   "name": "python",
   "nbconvert_exporter": "python",
   "pygments_lexer": "ipython2",
   "version": "2.7.12"
  }
 },
 "nbformat": 4,
 "nbformat_minor": 1
}
